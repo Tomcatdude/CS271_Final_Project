{
 "cells": [
  {
   "cell_type": "markdown",
   "metadata": {},
   "source": [
    "# Day By Day Collection And Sorting Data"
   ]
  },
  {
   "cell_type": "markdown",
   "metadata": {},
   "source": [
    "### Finding The  Day By Day Activities And Sleep Amount"
   ]
  },
  {
   "cell_type": "code",
   "execution_count": 159,
   "metadata": {},
   "outputs": [],
   "source": [
    "import pandas as pd\n",
    "import numpy as np\n",
    "from os.path import exists\n",
    "from functools import reduce\n",
    "import datetime\n",
    "import warnings\n",
    "warnings.filterwarnings(\"ignore\")#there are some warnings that show up from pandas that don't effect us, so we just mute them\n",
    "\n",
    "#authored by Tom Odem on 12 November 2023\n",
    "#returns a numpy array of numpy arrays, where the first elements of each sub array is a daily sleep time and the proceeding elements are the activities the user \n",
    "#completed throughout the day in sequence\n",
    "def get_and_dayitise_data():\n",
    " \n",
    "    users_df = pd.read_csv('user_information.csv') #read the user_information.csv file to get user ids, depression scores, etc\n",
    "    day_by_day = []\n",
    "\n",
    "    #go through all users in user_information.csv\n",
    "    for user in users_df['user_id']:\n",
    "       \n",
    "        if(exists('user_tags/'+str(user)+'.csv')): #if the user's tags csv exists then open it and continue\n",
    "            u = pd.read_csv('user_tags/'+str(user)+'.csv')\n",
    "            u = u.drop(columns=['end'])\n",
    "\n",
    "            u['date'] = [pd.to_datetime(t).date() for t in u['start']] #add date column\n",
    "\n",
    "\n",
    "\n",
    "\n",
    "            #find daily sleep time\n",
    "            #finds the time the user wakes up everyday\n",
    "            wakeup_time = u.loc[(u['labelName'] == 'Wake up')]\n",
    "            wakeup_time['start'] = [pd.to_datetime(t)  for t in wakeup_time['start']]\n",
    "            wakeup_time['date']= [pd.to_datetime(t).date() for t in wakeup_time['start']]\n",
    "            wakeup_time['hour']= [pd.to_datetime(t).time() for t in wakeup_time['start']]\n",
    "\n",
    "            #finds the time the user went to sleep everyday\n",
    "            sleep_time = u.loc[(u['labelName'] == 'Sleep')]\n",
    "            sleep_time['start'] = [pd.to_datetime(t) for t in sleep_time['start']]\n",
    "            sleep_time['date']= [(pd.to_datetime(t)+ pd.Timedelta(days=1)).date() for t in sleep_time['start']]\n",
    "            sleep_time['hour']= [pd.to_datetime(t).time() for t in sleep_time['start']]\n",
    "            \n",
    "            #computes the amount of time the user slept daily\n",
    "            r = pd.merge(wakeup_time, sleep_time, on ='date')\n",
    "            r['start_y'] = pd.to_datetime(r['start_y'])\n",
    "            r['start_x'] = pd.to_datetime(r['start_x'])\n",
    "            r['sleeptime'] = (-1*(r['start_y'] - r['start_x']).astype('timedelta64[m]'))/60 #find the difference between when they woke up from when they went to sleep in hours\n",
    "            r = r[['sleeptime','date']].groupby('date').mean().reset_index().astype({'date':object})#we only need the date and the sleeptime, we reset the index to change it back \n",
    "                                                                                                    #to a dataframe, and we want to force teh date to be of type object so that we can always merge even if there are no entries\n",
    "            \n",
    "            #document the activities performed on each day\n",
    "            for index, row in r.iterrows(): #for each day in the average sleep amount dataframe r\n",
    "                day = row.to_numpy()[0]#get the day\n",
    "                activities = u.loc[(u['date'] == day) & (u['labelName'] != 'Sleep') & (u['labelName'] != 'Wake up')] #get all of the activities that happened on this day that are not sleeping related\n",
    "                activities = activities['labelName'].to_numpy() #get only the activities, as in drop every other column\n",
    "                activities = np.append(row['sleeptime'],activities) #add the sleep time to the beginning of the array, so we can find it later\n",
    "                activities = activities[activities != 'None'] #remove any 'None' elements from the array\n",
    "\n",
    "                day_by_day.append(activities)#add the activities and sleep time from today to the day_by_day list\n",
    "\n",
    "\n",
    "        \n",
    "\n",
    "            \n",
    "\n",
    "            \n",
    "    \n",
    "        else:\n",
    "            print(f'no user_tags: {user}') #the tags csv was missing for this user\n",
    "\n",
    "\n",
    "    return np.array(day_by_day) #change the list into an industry standard numpy array and return\n"
   ]
  },
  {
   "cell_type": "code",
   "execution_count": 160,
   "metadata": {},
   "outputs": [
    {
     "name": "stdout",
     "output_type": "stream",
     "text": [
      "no user_tags: 520\n",
      "no user_tags: 532\n",
      "no user_tags: 503\n",
      "no user_tags: 503\n",
      "no user_tags: 523\n",
      "no user_tags: 544\n",
      "no user_tags: 529\n",
      "no user_tags: 661\n",
      "no user_tags: 658\n",
      "no user_tags: 664\n",
      "no user_tags: 634\n",
      "no user_tags: 507\n",
      "no user_tags: 547\n",
      "no user_tags: 501\n",
      "no user_tags: 668\n",
      "no user_tags: 662\n"
     ]
    }
   ],
   "source": [
    "#example, get thhe activities for all users\n",
    "activities = get_and_dayitise_data()"
   ]
  },
  {
   "cell_type": "code",
   "execution_count": 163,
   "metadata": {},
   "outputs": [
    {
     "data": {
      "text/plain": [
       "array([array([11.0, 'Take medicine', 'Take medicine', 'Take medicine',\n",
       "              'Take medicine', 'Take medicine', 'Take medicine'], dtype=object),\n",
       "       array([23.166666666666668, 'Go walk', 'Go walk', 'Go walk', 'Go walk',\n",
       "              'Go walk', 'Go walk', 'Go walk', 'Go walk', 'Go walk', 'Go walk',\n",
       "              'Go walk', 'Go walk', 'Go walk', 'Go walk', 'Go walk', 'Go walk',\n",
       "              'Go walk', 'Go walk', 'Go walk', 'Go walk', 'Go walk',\n",
       "              'Take medicine'], dtype=object)                                  ,\n",
       "       array([31.944444444444443, 'Take medicine', 'Go walk', 'Go walk',\n",
       "              'Go to bathroom', 'Eat', 'Take medicine', 'Take medicine',\n",
       "              'Take medicine', 'Take medicine', 'Take medicine', 'Take medicine',\n",
       "              'Take medicine', 'Go walk', 'Take medicine', 'Take medicine'],\n",
       "             dtype=object)                                                       ,\n",
       "       ...,\n",
       "       array([28.0, 'Cook', 'Eat', 'Go to bathroom', 'Eat', 'Eat'], dtype=object),\n",
       "       array([23.5, 'Take medicine', 'Eat', 'Eat', 'Eat', 'Eat'], dtype=object),\n",
       "       array([22.0, 'Take medicine', 'Eat', 'Cook', 'Eat'], dtype=object)],\n",
       "      dtype=object)"
      ]
     },
     "execution_count": 163,
     "metadata": {},
     "output_type": "execute_result"
    }
   ],
   "source": [
    "#display the array\n",
    "activities"
   ]
  }
 ],
 "metadata": {
  "interpreter": {
   "hash": "3373f5e4286784464e69fd09210bfe4c348f89b58f1edca7f7cdbc29737fecd0"
  },
  "kernelspec": {
   "display_name": "Python 3 (ipykernel)",
   "language": "python",
   "name": "python3"
  },
  "language_info": {
   "codemirror_mode": {
    "name": "ipython",
    "version": 3
   },
   "file_extension": ".py",
   "mimetype": "text/x-python",
   "name": "python",
   "nbconvert_exporter": "python",
   "pygments_lexer": "ipython3",
   "version": "3.9.13"
  }
 },
 "nbformat": 4,
 "nbformat_minor": 2
}
