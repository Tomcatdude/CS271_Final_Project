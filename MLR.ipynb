{
 "cells": [
  {
   "cell_type": "markdown",
   "metadata": {},
   "source": [
    "## Using Miltple Linear Regression models to predict depression levels based on daily patterns"
   ]
  },
  {
   "cell_type": "markdown",
   "metadata": {},
   "source": [
    "### Imports"
   ]
  },
  {
   "cell_type": "code",
   "execution_count": 1,
   "metadata": {},
   "outputs": [],
   "source": [
    "import modules\n",
    "import numpy as np\n",
    "from sklearn.linear_model import LinearRegression"
   ]
  },
  {
   "cell_type": "code",
   "execution_count": 2,
   "metadata": {},
   "outputs": [
    {
     "name": "stdout",
     "output_type": "stream",
     "text": [
      "no user_tags: 501\n",
      "no user_tags: 503\n",
      "no user_tags: 507\n",
      "no user_tags: 520\n",
      "no user_tags: 523\n",
      "no user_tags: 529\n",
      "no user_tags: 532\n",
      "no user_tags: 544\n",
      "no user_tags: 547\n",
      "no user_tags: 634\n",
      "no user_tags: 658\n",
      "no user_tags: 661\n",
      "no user_tags: 662\n",
      "no user_tags: 664\n",
      "no user_tags: 668\n"
     ]
    }
   ],
   "source": [
    "X = modules.get_and_avg_data(7)"
   ]
  },
  {
   "cell_type": "code",
   "execution_count": 3,
   "metadata": {},
   "outputs": [
    {
     "data": {
      "text/plain": [
       "0       0\n",
       "1       0\n",
       "2       0\n",
       "3       0\n",
       "4       0\n",
       "       ..\n",
       "1078    0\n",
       "1079    0\n",
       "1080    0\n",
       "1081    0\n",
       "1082    0\n",
       "Name: depression_class, Length: 585, dtype: object"
      ]
     },
     "execution_count": 3,
     "metadata": {},
     "output_type": "execute_result"
    }
   ],
   "source": [
    "Y = modules.categorize_depression(X['depression_class'])\n",
    "Y[Y==1]"
   ]
  }
 ],
 "metadata": {
  "kernelspec": {
   "display_name": "Python 3",
   "language": "python",
   "name": "python3"
  },
  "language_info": {
   "codemirror_mode": {
    "name": "ipython",
    "version": 3
   },
   "file_extension": ".py",
   "mimetype": "text/x-python",
   "name": "python",
   "nbconvert_exporter": "python",
   "pygments_lexer": "ipython3",
   "version": "3.7.9"
  }
 },
 "nbformat": 4,
 "nbformat_minor": 2
}
